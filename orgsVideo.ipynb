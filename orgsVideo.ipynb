{
  "cells": [
    {
      "cell_type": "markdown",
      "metadata": {
        "id": "view-in-github",
        "colab_type": "text"
      },
      "source": [
        "<a href=\"https://colab.research.google.com/github/NguyenChiBao1112002/BotRenameAndOrganizeFilesInComputer-Python-OSModule/blob/main/orgsVideo.ipynb\" target=\"_parent\"><img src=\"https://colab.research.google.com/assets/colab-badge.svg\" alt=\"Open In Colab\"/></a>"
      ]
    },
    {
      "cell_type": "code",
      "execution_count": 1,
      "metadata": {
        "colab": {
          "base_uri": "https://localhost:8080/"
        },
        "id": "h7WY00sIrYx6",
        "outputId": "1c911141-1f01-47fa-9126-43c82b08b50a"
      },
      "outputs": [
        {
          "output_type": "stream",
          "name": "stdout",
          "text": [
            "-Package imported\n"
          ]
        }
      ],
      "source": [
        "import xlrd\n",
        "import os\n",
        "from pathlib import Path\n",
        "print('-Package imported')"
      ]
    },
    {
      "cell_type": "code",
      "execution_count": null,
      "metadata": {
        "id": "4UcHNJ1srYx7",
        "outputId": "8c4d299c-ddd3-412f-e1fd-af0e998ae13f"
      },
      "outputs": [
        {
          "name": "stdout",
          "output_type": "stream",
          "text": [
            "-Pulling video IDs and Titles from Excel...\n",
            "-Finish loading IDs and Titles\n"
          ]
        }
      ],
      "source": [
        "#Step 1:\n",
        "#Pull video IDs and Titles from excel file\n",
        "print('-Pulling video IDs and Titles from Excel...')\n",
        "path = r'C:\\Users\\BaoNguyen\\Downloads\\organizeVideos\\database\\database.xlsx'\n",
        "workbook = xlrd.open_workbook(path)\n",
        "sheet = workbook.sheet_by_name('video-names') #Choose sheet\n",
        "video_titles = sheet.col_values(0, start_rowx = 1) #start_row = 1: get values from row 1\n",
        "video_ids = sheet.col_values(1, start_rowx = 1)\n",
        "# video_ids_str = []\n",
        "# for item in video_ids:\n",
        "#     video_ids_str.append(str(int(item)))\n",
        "video_ids_str = [str(int(item)) for item in video_ids]\n",
        "print('-Finish loading IDs and Titles')"
      ]
    },
    {
      "cell_type": "code",
      "execution_count": null,
      "metadata": {
        "id": "MZamLVJprYx7"
      },
      "outputs": [],
      "source": [
        "# Match IDs with Titles\n",
        "id_dict = {} #Dictionary in Python\n",
        "for i in range(len(video_ids_str)):\n",
        "    id_dict.update({video_ids_str[i]:video_titles[i]})\n",
        "#print(id_dict)"
      ]
    },
    {
      "cell_type": "code",
      "execution_count": null,
      "metadata": {
        "id": "sdXCdiKarYx8",
        "outputId": "549b8e34-d4e0-48d7-c97c-6e354a770e24"
      },
      "outputs": [
        {
          "name": "stdout",
          "output_type": "stream",
          "text": [
            "-Renaming files from IDs to Titles\n",
            "From: 53.mp4 To:  Emotional Courtroom Dramas.mp4\n",
            "From: 532.mp4 To:  Critically-acclaimed Visually-striking Movies.mp4\n",
            "From: 535.mp4 To:  Coming-of-age Movies for ages 11 to 12.mp4\n",
            "From: 538.mp4 To:  Cult Crime Movies from the 1980s.mp4\n",
            "From: 540.mp4 To:  Campy Comedies from the 1980s.mp4\n",
            "From: 541.mp4 To:  Dramas directed by Ram Gopal Varma.mp4\n",
            "From: 543.mp4 To:  Foreign Crime Movies from the 1980s.mp4\n",
            "From: 5507.mp4 To:  Animal Tales.mp4\n",
            "From: 551.mp4 To:  Cerebral Independent Movies.mp4\n",
            "From: 558.mp4 To:  Dramas starring Shirley MacLaine.mp4\n",
            "From: 56.mp4 To:  Dark Political Movies from the 1960s.mp4\n",
            "From: 561.mp4 To:  Ages 8-10.mp4\n",
            "From: 566.mp4 To:  Critically-acclaimed Animal Tales.mp4\n",
            "From: 570.mp4 To:  British Horror Movies from the 1960s.mp4\n",
            "From: 571.mp4 To:  Critically-acclaimed Japanese Movies.mp4\n",
            "From: 574.mp4 To:  Crime Time Travel Movies.mp4\n",
            "From: 575.mp4 To:  African-American Movies.mp4\n",
            "From: 58.mp4 To:  Feel-good Movies starring Elvis Presley.mp4\n",
            "From: 581.mp4 To:  Critically-acclaimed Quirky Biographical Movies.mp4\n",
            "From: 585.mp4 To:  Critically-acclaimed Crime Movies based on Books.mp4\n",
            "From: 587.mp4 To:  Anime Action from the 1970s.mp4\n",
            "From: 588.mp4 To:  Australian Movies for ages 0 to 2.mp4\n",
            "From: 58807.mp4 To:  French Movies.mp4\n",
            "From: 58886.mp4 To:  German Movies.mp4\n",
            "From: 589.mp4 To:  Critically-acclaimed Cerebral French-Language Dramas.mp4\n",
            "From: 591.mp4 To:  Education & Guidance starring Teletubbies.mp4\n",
            "From: 592.mp4 To:  Emotional Independent Political Movies.mp4\n",
            "From: 593.mp4 To:  Controversial Political Movies.mp4\n",
            "From: 59433.mp4 To:  Disney Musicals.mp4\n",
            "From: 596.mp4 To:  Dramas starring Richard Gere.mp4\n",
            "From: 5977.mp4 To:  Gay & Lesbian Movies.mp4\n",
            "From: 599.mp4 To:  Courtroom Comedies.mp4\n",
            "From: 602.mp4 To:  British Horror Movies from the 1970s.mp4\n",
            "From: 607.mp4 To:  Critically-acclaimed Feel-good Comedies from the 1980s.mp4\n",
            "From: 608.mp4 To:  Critically-acclaimed Spanish-Language Dramas.mp4\n",
            "From: 609.mp4 To:  Critically-acclaimed Irreverent Crime Movies.mp4\n",
            "From: 61.mp4 To:  Australian Movies for ages 2 to 4.mp4\n",
            "From: 611.mp4 To:  Gory Crime Movies from the 1970s.mp4\n",
            "From: 612.mp4 To:  Goofy Comedies starring Jim Carrey.mp4\n",
            "From: 616.mp4 To:  Cerebral Foreign Movies from the 1950s.mp4\n",
            "From: 622.mp4 To:  Critically-acclaimed Mind-bending Movies.mp4\n",
            "From: 625.mp4 To:  Anime Action from the 1980s.mp4\n",
            "From: 627.mp4 To:  Critically-acclaimed Biographical Movies.mp4\n",
            "From: 633.mp4 To:  Goofy Crime Action & Adventure from the 1980s.mp4\n",
            "From: 636.mp4 To:  British Fantasy Movies.mp4\n",
            "From: 638.mp4 To:  Critically-acclaimed Crime Sci-Fi & Fantasy.mp4\n",
            "From: 641.mp4 To:  Gory Crime Movies from the 1980s.mp4\n",
            "From: 643.mp4 To:  Cerebral Foreign Movies from the 1960s.mp4\n",
            "From: 6485.mp4 To:  Foreign Sci-Fi & Fantasy.mp4\n",
            "From: 652.mp4 To:  Frankenstein Movies.mp4\n",
            "From: 65263.mp4 To:  Gay & Lesbian TV Shows.mp4\n",
            "From: 654.mp4 To:  Crime Movies based on Books.mp4\n",
            "From: 657.mp4 To:  Critically-acclaimed Movies about Food.mp4\n",
            "From: 660.mp4 To:  Critically-acclaimed Violent Crime Action & Adventure.mp4\n",
            "From: 663.mp4 To:  Dramas starring Cate Blanchett.mp4\n",
            "From: 666.mp4 To:  Dark British Independent Movies.mp4\n",
            "From: 669.mp4 To:  Cerebral Foreign Movies from the 1970s.mp4\n",
            "From: 6721.mp4 To:  Anime Series.mp4\n",
            "From: 67673.mp4 To:  Disney.mp4\n",
            "From: 68.mp4 To:  German-Language War Movies.mp4\n",
            "From: 681.mp4 To:  German Political Movies from the 1970s.mp4\n",
            "From: 6889.mp4 To:  Crime Dramas.mp4\n",
            "From: 6895.mp4 To:  Creature Features.mp4\n",
            "From: 694.mp4 To:  Emotional Teen Movies.mp4\n",
            "From: 702.mp4 To:  British Dramas based on a book from the 1980s.mp4\n",
            "From: 704.mp4 To:  Action & Adventure based on a book from the 1980s.mp4\n",
            "From: 710.mp4 To:  Critically-acclaimed Understated Foreign Comedies.mp4\n",
            "From: 711.mp4 To:  Cardio & Aerobics Workouts.mp4\n",
            "From: 7120.mp4 To:  Gay & Lesbian Comedies.mp4\n",
            "From: 713.mp4 To:  Comedies starring Steve Guttenberg.mp4\n",
            "From: 720.mp4 To:  Action & Adventure starring Maureen O’Hara.mp4\n",
            "From: 72436.mp4 To:  Food & Travel TV.mp4\n",
            "From: 73.mp4 To:  Critically-acclaimed Gritty British Movies.mp4\n",
            "From: 736.mp4 To:  Comedies starring Steve Martin.mp4\n",
            "From: 7442.mp4 To:  Adventures.mp4\n",
            "From: 745.mp4 To:  British Movies for ages 2 to 4.mp4\n",
            "From: 7462.mp4 To:  Foreign Movies.mp4\n",
            "From: 74652.mp4 To:  Cult TV Shows.mp4\n",
            "From: 751.mp4 To:  Critically-acclaimed Quirky Comedies from the 1970s.mp4\n",
            "From: 753.mp4 To:  Car Culture Shows.mp4\n",
            "From: 754.mp4 To:  Feel-good Comedies for ages 8 to 10.mp4\n",
            "From: 755.mp4 To:  Crime Comedies on Blu-ray.mp4\n",
            "From: 760.mp4 To:  American Folk & Bluegrass.mp4\n",
            "From: 761.mp4 To:  Dramas starring Mel Gibson.mp4\n",
            "From: 7627.mp4 To:  Cult Movies.mp4\n",
            "From: 768.mp4 To:  Campy British Comedies.mp4\n",
            "From: 7687.mp4 To:  Film Noir.mp4\n",
            "From: 77232.mp4 To:  Asian Action Movies.mp4\n",
            "From: 774.mp4 To:  Critically-acclaimed Emotional Political Movies.mp4\n",
            "From: 776.mp4 To:  Dramas directed by Wim Wenders.mp4\n",
            "From: 781.mp4 To:  Critically-acclaimed Visually-striking Gory Movies.mp4\n",
            "From: 782.mp4 To:  Comedies directed by David Dhawan.mp4\n",
            "From: 788.mp4 To:  Critically-acclaimed Quirky Comedies from the 1980s.mp4\n",
            "From: 791.mp4 To:  Dramas starring Ethan Hawke.mp4\n",
            "From: 798.mp4 To:  Brazilian Movies.mp4\n",
            "From: 8.mp4 To:  Exciting Film Noir.mp4\n",
            "From: 80.mp4 To:  Courtroom Thrillers.mp4\n",
            "From: 803.mp4 To:  Campy Independent Movies.mp4\n",
            "From: 806.mp4 To:  Campy Movies on Blu-ray.mp4\n",
            "From: 807.mp4 To:  Controversial Gay & Lesbian Movies.mp4\n",
            "From: 808.mp4 To:  Dark German-Language Movies from the 1970s.mp4\n",
            "From: 811.mp4 To:  British Movies based on Books.mp4\n",
            "From: 813.mp4 To:  Dramas starring Raveena Tandon.mp4\n",
            "From: 814.mp4 To:  Cerebral Political Dramas.mp4\n",
            "From: 8195.mp4 To:  B-Horror Movies.mp4\n",
            "From: 824.mp4 To:  Critically-acclaimed Controversial Crime Movies.mp4\n",
            "From: 8243.mp4 To:  Foreign Gay & Lesbian Movies.mp4\n",
            "From: 825.mp4 To:  Dramas starring Humphrey Bogart.mp4\n",
            "From: 831.mp4 To:  Dark British Independent Dramas.mp4\n",
            "From: 837.mp4 To:  Exciting Foreign War Movies.mp4\n",
            "From: 838.mp4 To:  Critically-acclaimed British Movies.mp4\n",
            "From: 84.mp4 To:  Feel-good Foreign Comedies.mp4\n",
            "From: 846.mp4 To:  Critically-acclaimed War Movies.mp4\n",
            "From: 855.mp4 To:  Feel-good Sports Movies for ages 8 to 10.mp4\n",
            "From: 857.mp4 To:  Action & Adventure starring Harrison Ford.mp4\n",
            "From: 858.mp4 To:  Dark Action & Adventure based on Books.mp4\n",
            "From: 862.mp4 To:  Critically-acclaimed Quirky Action & Adventure.mp4\n",
            "From: 8654.mp4 To:  Foreign Horror Movies.mp4\n",
            "From: 866.mp4 To:  Action & Adventure directed by Wai-keung Lau.mp4\n",
            "From: 869.mp4 To:  Dark Comedies.mp4\n",
            "From: 870.mp4 To:  Critically-acclaimed Witty Showbiz Comedies.mp4\n",
            "From: 871.mp4 To:  Critically-acclaimed Gritty Crime Dramas.mp4\n",
            "From: 873.mp4 To:  Gay & Lesbian Crime Movies.mp4\n",
            "From: 874.mp4 To:  Foreign B-Horror Movies.mp4\n",
            "From: 875.mp4 To:  Critically-acclaimed Independent Movies.mp4\n",
            "From: 876.mp4 To:  Critically-acclaimed Dark French-Language Movies.mp4\n",
            "From: 879.mp4 To:  Feel-good Australian Movies.mp4\n",
            "From: 885.mp4 To:  Filipino Sci-Fi & Fantasy.mp4\n",
            "From: 89.mp4 To:  Critically-acclaimed Cerebral Independent Movies.mp4\n",
            "From: 894.mp4 To:  Dramas starring Cecilia Cheung.mp4\n",
            "From: 896.mp4 To:  Cerebral British Dramas.mp4\n",
            "From: 899.mp4 To:  Critically-acclaimed Action & Adventure.mp4\n",
            "From: 9.mp4 To:  Education & Guidance directed by Dean Gordon.mp4\n",
            "From: 901.mp4 To:  Action & Adventure starring Akshay Kumar.mp4\n",
            "From: 904.mp4 To:  Goofy Animal Tales.mp4\n",
            "From: 905.mp4 To:  Emotional Movies based on children’s books.mp4\n",
            "From: 906.mp4 To:  Foreign Coming-of-age Dramas.mp4\n",
            "From: 912.mp4 To:  Crime Action & Adventure from the 1930s.mp4\n",
            "From: 914.mp4 To:  Feel-good Sports Comedies.mp4\n",
            "From: 915.mp4 To:  Feel-good Dramas from the 1940s.mp4\n",
            "From: 918.mp4 To:  Critically-acclaimed Witty British Dramas.mp4\n",
            "From: 919.mp4 To:  Dramas starring Nicole Kidman.mp4\n",
            "From: 92.mp4 To:  Dark Political Movies from the 1970s.mp4\n",
            "From: 93.mp4 To:  Goofy Adventures.mp4\n",
            "From: 930.mp4 To:  French-Language Mysteries.mp4\n",
            "From: 9302.mp4 To:  Anime Comedies.mp4\n",
            "From: 931.mp4 To:  Crime Action & Adventure from the 1940s.mp4\n",
            "From: 933.mp4 To:  Dramas starring Sissy Spacek.mp4\n",
            "From: 938.mp4 To:  Feel-good Dramas from the 1950s.mp4\n",
            "From: 94.mp4 To:  Chinese Gay & Lesbian Movies.mp4\n",
            "From: 942.mp4 To:  Dark Independent Political Dramas.mp4\n",
            "From: 943.mp4 To:  Feel-good Comedies.mp4\n",
            "From: 9434.mp4 To:  Cult Comedies.mp4\n",
            "From: 95.mp4 To:  Critically-acclaimed Cerebral Crime Dramas.mp4\n",
            "From: 955.mp4 To:  Comedies directed by Herbert Ross.mp4\n",
            "From: 956.mp4 To:  Crime Action & Adventure from the 1950s.mp4\n",
            "From: 958.mp4 To:  Goofy Children & Family Movies on Blu-ray.mp4\n",
            "From: 9584.mp4 To:  Crime Action & Adventure.mp4\n",
            "From: 959.mp4 To:  Feel-good Dramas from the 1960s.mp4\n",
            "From: 962.mp4 To:  Critically-acclaimed Witty Political Comedies.mp4\n",
            "From: 966.mp4 To:  Comedies starring Ben Stiller.mp4\n",
            "From: 969.mp4 To:  Goofy Crime Comedies.mp4\n",
            "From: 973.mp4 To:  Alien Sci-Fi based on Books.mp4\n",
            "From: 9744.mp4 To:  Fantasy Movies.mp4\n",
            "From: 976.mp4 To:  Foreign Political Thrillers.mp4\n",
            "From: 978.mp4 To:  Crime Action & Adventure from the 1960s.mp4\n",
            "From: 982.mp4 To:  Action & Adventure directed by Joseph Kuo.mp4\n",
            "From: 9875.mp4 To:  Crime Documentaries.mp4\n",
            "From: 989.mp4 To:  Coming-of-age Movies for ages 5 to 7.mp4\n",
            "From: 99.mp4 To:  Critically-acclaimed Feel-good Movies from the 1960s.mp4\n",
            "From: 991.mp4 To:  Children & Family Movies directed by Michael Hack.mp4\n",
            "From: 992.mp4 To:  Dramas directed by Stephen Frears.mp4\n",
            "From: 994.mp4 To:  Comedies directed by Mel Brooks.mp4\n",
            "From: 995.mp4 To:  Cerebral Scandinavian Movies.mp4\n",
            "From: 996.mp4 To:  Crime Action & Adventure from the 1970s.mp4\n"
          ]
        }
      ],
      "source": [
        "#Renaming files from IDs to Titles (have use module OS)\n",
        "print('-Renaming files from IDs to Titles')\n",
        "path2 = r'C:\\Users\\BaoNguyen\\Downloads\\organizeVideos'\n",
        "os.chdir(path2) #chdir: change directory = cd\n",
        "\n",
        "for f in os.listdir(): # listdir: all files list\n",
        "    for ids, titles in id_dict.items(): #get each id to compare with which key_value pair in listdir()\n",
        "        name_extension = os.path.splitext(f)\n",
        "        if ids == name_extension[0]:\n",
        "            name = f'{titles}{name_extension[1]}'\n",
        "            print('From:', f, 'To: ', name)\n",
        "            os.rename(f, name) # Rename file"
      ]
    },
    {
      "cell_type": "code",
      "execution_count": null,
      "metadata": {
        "id": "CBT9_d7xrYx8",
        "outputId": "5419b757-02c2-487d-80db-3c88467d4dbf"
      },
      "outputs": [
        {
          "name": "stdout",
          "output_type": "stream",
          "text": [
            "-Pulling the genres data to our file\n"
          ]
        }
      ],
      "source": [
        "#Step 2:\n",
        "#Pull the genres data to our file\n",
        "print('-Pulling the genres data to our file')\n",
        "sheet2 = workbook.sheet_by_name('main-genres')\n",
        "genres = sheet2.col_values(0, start_rowx=1)\n",
        "#print(genres)"
      ]
    },
    {
      "cell_type": "code",
      "execution_count": null,
      "metadata": {
        "id": "X54AQ1PvrYx8",
        "outputId": "8059bba0-4685-4942-927a-3ca8d6cbb292"
      },
      "outputs": [
        {
          "name": "stdout",
          "output_type": "stream",
          "text": [
            "Match the files with their genre\n"
          ]
        }
      ],
      "source": [
        "#Match the files with their genre\n",
        "print('Match the files with their genre')\n",
        "\n",
        "#Cho tất cả các thể loại vào dictionary(genre_dict)\n",
        "#Vì chưa có video nào dc xét nên mỗi thể loại để chuỗi rỗng\n",
        "genre_dict = {}\n",
        "for i in genres:\n",
        "    genre_dict[i] = []\n",
        "\n",
        "for video in os.listdir(path2):\n",
        "    for genre, videos in genre_dict.items():\n",
        "        if genre in video:\n",
        "            videos.append(video)\n",
        "#print(genre_dict)\n",
        "\n",
        "#function: đầu vào: tên video, đầu ra: tên thể loại\n",
        "#Nếu không nằm trog thể loại nào thì trả về 'others'\n",
        "def pick_directory(value):\n",
        "    for genre, videos in genre_dict.items():\n",
        "        for video in videos:\n",
        "            if value == video:\n",
        "                return genre\n",
        "    return 'Others'"
      ]
    },
    {
      "cell_type": "code",
      "execution_count": null,
      "metadata": {
        "id": "tUo8CEi2rYx8",
        "outputId": "1cf25c19-9010-4aec-e674-cc5a4f12add4"
      },
      "outputs": [
        {
          "name": "stdout",
          "output_type": "stream",
          "text": [
            "-Creating the folders of genres and Move files accordingly\n",
            "Finish program. Well done!!!\n"
          ]
        }
      ],
      "source": [
        "#Create the folders of genres and Move files accordingly\n",
        "print('-Creating the folders of genres and Move files accordingly')\n",
        "os.chdir(path2)\n",
        "for item in os.scandir(): #scandir = listdir + many attribute information such as function is_file, is_dir\n",
        "    if item.is_dir(): #Nếu là thư mục bỏ qua\n",
        "        continue\n",
        "    filePath = Path(item) # return type: pathlib.WindowsPath\n",
        "    filePath_str = str(filePath)\n",
        "    directory = pick_directory(filePath_str)\n",
        "    directoryPath = Path(directory)\n",
        "    if directoryPath.is_dir() != True:\n",
        "        directoryPath.mkdir()\n",
        "    filePath.rename(directoryPath.joinpath(filePath))\n",
        "\n",
        "#C2:\n",
        "# import shutil\n",
        "# import pathlib\n",
        "# path2 = pathlib.Path(path)\n",
        "\n",
        "# for f in path2.iterdir():\n",
        "#     if f.is_dir():\n",
        "#         continue\n",
        "#     folder = pick_directory(f.name)\n",
        "#     new_path = os.path.join(path,folder)\n",
        "#     if os.path.exists(new_path) == False:\n",
        "#         os.mkdir(new_path)\n",
        "#     shutil.move(f,new_path)\n",
        "\n",
        "print('Finish program. Well done!!!')"
      ]
    }
  ],
  "metadata": {
    "kernelspec": {
      "display_name": "Python 3",
      "language": "python",
      "name": "python3"
    },
    "language_info": {
      "codemirror_mode": {
        "name": "ipython",
        "version": 3
      },
      "file_extension": ".py",
      "mimetype": "text/x-python",
      "name": "python",
      "nbconvert_exporter": "python",
      "pygments_lexer": "ipython3",
      "version": "3.11.1"
    },
    "orig_nbformat": 4,
    "vscode": {
      "interpreter": {
        "hash": "fc6045b06d6c891d701e454e811273ec26c125388e09430210488944ec7c000a"
      }
    },
    "colab": {
      "provenance": [],
      "include_colab_link": true
    }
  },
  "nbformat": 4,
  "nbformat_minor": 0
}